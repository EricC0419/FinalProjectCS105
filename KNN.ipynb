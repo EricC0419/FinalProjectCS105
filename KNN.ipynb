{
 "cells": [
  {
   "cell_type": "code",
   "execution_count": 10,
   "metadata": {},
   "outputs": [
    {
     "data": {
      "text/plain": [
       "array(['2 compressed discs in neck', '20 year pack a day smoker',\n",
       "       'a boil', ..., 'yeast diaper rash', 'yeast infection', nan],\n",
       "      dtype=object)"
      ]
     },
     "execution_count": 10,
     "metadata": {},
     "output_type": "execute_result"
    }
   ],
   "source": [
    "import pandas as pd\n",
    "from sklearn.preprocessing import LabelEncoder\n",
    "\n",
    "\n",
    "train = pd.read_csv('drugLibTrain_raw_sentiment.csv')\n",
    "test = pd.read_csv('drugLibTest_raw_sentiment.csv')\n",
    "\n",
    "#sideEffects and condition\n",
    "le_se = LabelEncoder()\n",
    "le_cond = LabelEncoder()\n",
    "train['sideEffectsEncoded'] = le_se.fit_transform(train['sideEffects'])\n",
    "train['conditionEncoded'] = le_cond.fit_transform(train['condition'])\n",
    "\n",
    "test = test[test['sideEffects'].isin(le_se.classes_)]\n",
    "test = test[test['condition'].isin(le_cond.classes_)]\n",
    "test['sideEffectsEncoded'] = le_se.transform(test['sideEffects'])\n",
    "test['conditionEncoded'] = le_cond.transform(test['condition'])\n",
    "\n",
    "le_cond.classes_"
   ]
  }
 ],
 "metadata": {
  "kernelspec": {
   "display_name": "Python 3",
   "language": "python",
   "name": "python3"
  },
  "language_info": {
   "codemirror_mode": {
    "name": "ipython",
    "version": 3
   },
   "file_extension": ".py",
   "mimetype": "text/x-python",
   "name": "python",
   "nbconvert_exporter": "python",
   "pygments_lexer": "ipython3",
   "version": "3.9.6"
  },
  "orig_nbformat": 4,
  "vscode": {
   "interpreter": {
    "hash": "31f2aee4e71d21fbe5cf8b01ff0e069b9275f58929596ceb00d14d90e3e16cd6"
   }
  }
 },
 "nbformat": 4,
 "nbformat_minor": 2
}
